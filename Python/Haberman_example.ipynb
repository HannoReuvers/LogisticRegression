{
 "cells": [
  {
   "cell_type": "markdown",
   "metadata": {},
   "source": [
    "### Import libraries"
   ]
  },
  {
   "cell_type": "code",
   "execution_count": null,
   "metadata": {},
   "outputs": [],
   "source": [
    "import csv\n",
    "import numpy as np\n",
    "import os\n",
    "import pandas as pd\n",
    "import re\n",
    "from scipy.stats import norm\n",
    "from functions.HelperFunctions import EstimateLogisticRegressionNewtonRhapsonNumPy, EstimateLogisticRegressionScikitLearn"
   ]
  },
  {
   "cell_type": "markdown",
   "metadata": {},
   "source": [
    "### Function to print model output"
   ]
  },
  {
   "cell_type": "code",
   "execution_count": null,
   "metadata": {},
   "outputs": [],
   "source": [
    "def PrintResults2Screen(beta, theta, AsymptoticCovarianceMatrix, SampleSize, PrintHeader):\n",
    "    print('\\n\\n'+PrintHeader)\n",
    "    print('%-15s %-15s %-15s %-15s' % ('variable', 'MLE', 'Std. Error', 'P-value'))\n",
    "    print('------------------------------------------------------------------')\n",
    "    # Define variable names\n",
    "    names = ['intercept', 'z_1', 'z_1^2', 'z_1^3', 'z_2', 'z_1xz_2', 'log(1+x_3)']\n",
    "    # Stack parameters, compute standard erros and compute p-values\n",
    "    gamma = np.hstack((beta, theta))\n",
    "    StdError = np.sqrt(np.diag(AsymptoticCovarianceMatrix))/np.sqrt(SampleSize)\n",
    "    Pvalues = 2*norm.cdf(-np.abs(gamma)/StdError)\n",
    "    for iter in range(len(gamma)):\n",
    "        print('%-15s %-15.4e %-15.4e %-15.4f' % (names[iter], gamma[iter], StdError[iter], Pvalues[iter]))"
   ]
  },
  {
   "cell_type": "markdown",
   "metadata": {},
   "source": [
    "### Estimate parameters on Haberman dataset"
   ]
  },
  {
   "cell_type": "code",
   "execution_count": null,
   "metadata": {},
   "outputs": [],
   "source": [
    "# Read input data\n",
    "input_data = pd.read_csv(\"../HabermanDataset/haberman.txt\", header=None, names=[\"Age\", \"Year\", \"AxilNodes\", \"y\"])\n",
    "input_data[\"y\"] = -input_data[\"y\"]+2\n",
    "\n",
    "# Calculate standardized columns\n",
    "input_data[\"z1\"] = input_data[\"Age\"]-52\n",
    "input_data[\"z1^2\"] = input_data[\"z1\"]**2\n",
    "input_data[\"z1^3\"] = input_data[\"z1\"]**3\n",
    "input_data[\"z2\"] = input_data[\"Year\"]-63\n",
    "input_data[\"z1_z2\"] = input_data[\"z1\"]*input_data[\"z2\"]\n",
    "input_data[\"log(1+AxilNodes)\"] = np.log(1+input_data[\"AxilNodes\"])\n",
    "\n",
    "# Create X and y\n",
    "X = input_data[[\"z1\", \"z1^2\", \"z1^3\", \"z2\", \"z1_z2\", \"log(1+AxilNodes)\"]]\n",
    "y = input_data[\"y\"]\n",
    "n = len(y)\n",
    "\n",
    "# Remove observation 8 (see Landwehr, Pregibon and Shoemaker (1984), page 86)\n",
    "X = X.drop(7)\n",
    "y = y.drop(7)\n",
    "\n",
    "# Estimation using NEWTON-RHAPSON in Numpy\n",
    "bStart = 1.5; thetaStart = np.array([[0.03], [0.004], [-0.0003], [0], [0], [-0.5]]);\n",
    "bhat1, thetahat1, _, AsymptoticCov1 = EstimateLogisticRegressionNewtonRhapsonNumPy(np.array(X).T, np.array(y).T, bStart, thetaStart)\n",
    "PrintResults2Screen(bhat1, thetahat1.reshape(1,len(thetahat1))[0], AsymptoticCov1, n, 'NEWTON-RHAPSON in Numpy:')\n",
    "\n",
    "# Estimation using SCIKIT-LEARN\n",
    "bhat2, thetahat2, AsymptoticCov2 = EstimateLogisticRegressionScikitLearn(np.array(X), np.array(y))\n",
    "PrintResults2Screen(bhat2, thetahat2, AsymptoticCov2, n, 'SCIKIT-LEARN:')"
   ]
  }
 ],
 "metadata": {
  "kernelspec": {
   "display_name": "Python 3",
   "language": "python",
   "name": "python3"
  },
  "language_info": {
   "codemirror_mode": {
    "name": "ipython",
    "version": 3
   },
   "file_extension": ".py",
   "mimetype": "text/x-python",
   "name": "python",
   "nbconvert_exporter": "python",
   "pygments_lexer": "ipython3",
   "version": "3.9.6"
  }
 },
 "nbformat": 4,
 "nbformat_minor": 2
}
