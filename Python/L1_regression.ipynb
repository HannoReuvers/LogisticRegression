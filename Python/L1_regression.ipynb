{
 "cells": [
  {
   "cell_type": "markdown",
   "metadata": {},
   "source": [
    "### Import libraries"
   ]
  },
  {
   "cell_type": "code",
   "execution_count": 1,
   "metadata": {},
   "outputs": [
    {
     "name": "stderr",
     "output_type": "stream",
     "text": [
      "/Users/hannoreuvers/Library/Python/3.9/lib/python/site-packages/urllib3/__init__.py:34: NotOpenSSLWarning: urllib3 v2 only supports OpenSSL 1.1.1+, currently the 'ssl' module is compiled with 'LibreSSL 2.8.3'. See: https://github.com/urllib3/urllib3/issues/3020\n",
      "  warnings.warn(\n"
     ]
    }
   ],
   "source": [
    "import numpy as np\n",
    "import pandas as pd\n",
    "from functions.HelperFunctions import GenerateRegressionData, LinearRegressionLasso"
   ]
  },
  {
   "cell_type": "markdown",
   "metadata": {},
   "source": [
    "### Functions"
   ]
  },
  {
   "cell_type": "markdown",
   "metadata": {},
   "source": [
    "### Main"
   ]
  },
  {
   "cell_type": "code",
   "execution_count": null,
   "metadata": {},
   "outputs": [
    {
     "name": "stdout",
     "output_type": "stream",
     "text": [
      "OLS estimator\n",
      "[[ 0.54408441]\n",
      " [ 1.03094224]\n",
      " [ 2.00740017]\n",
      " [-0.08082503]\n",
      " [ 0.03047343]\n",
      " [-0.0699374 ]\n",
      " [ 1.02999442]]\n",
      "True\n",
      "\n",
      "iter    obj. func.      rel. delta b    rel. delta theta\n",
      "------------------------------------------------------------------\n",
      "0       4.7534          0.00724         1              \n",
      "1       4.7461          0.2228          0              \n",
      "2       4.7461          0               0              \n",
      "Hello\n",
      "0.41981465795000344\n",
      "[0. 0. 0. 0. 0. 0.]\n"
     ]
    }
   ],
   "source": [
    "MAXITER = 1000\n",
    "RELTOL = 1E-6\n",
    "\n",
    "\n",
    "b = 0.5\n",
    "theta = np.array([1.0, 2.0, 0.0, 0.0, 0.0, 1.0])\n",
    "n = 1000\n",
    "\n",
    "X, y = GenerateRegressionData(b, theta, n)\n",
    "\n",
    "\n",
    "X_new = np.vstack( (np.ones((1, n)), X))\n",
    "\n",
    "\n",
    "bStart = betahat[0]\n",
    "thetaStart = theta\n",
    "\n",
    "\n",
    "bNEW, thetaNew, new = LinearRegressionLasso(X, y, 3, bStart, thetaStart, True)\n",
    "\n",
    "\n",
    "print(bNEW)\n",
    "print(thetaNew)\n"
   ]
  }
 ],
 "metadata": {
  "kernelspec": {
   "display_name": "Python 3",
   "language": "python",
   "name": "python3"
  },
  "language_info": {
   "codemirror_mode": {
    "name": "ipython",
    "version": 3
   },
   "file_extension": ".py",
   "mimetype": "text/x-python",
   "name": "python",
   "nbconvert_exporter": "python",
   "pygments_lexer": "ipython3",
   "version": "3.9.6"
  }
 },
 "nbformat": 4,
 "nbformat_minor": 2
}
